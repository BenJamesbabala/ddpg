{
 "cells": [
  {
   "cell_type": "markdown",
   "metadata": {},
   "source": [
    "# Dashboard "
   ]
  },
  {
   "cell_type": "markdown",
   "metadata": {},
   "source": [
    "### Select cell below and press *Ctrl+Enter*"
   ]
  },
  {
   "cell_type": "code",
   "execution_count": 2,
   "metadata": {
    "code_folding": [
     0
    ],
    "collapsed": false,
    "scrolled": true
   },
   "outputs": [],
   "source": [
    "from dashboard import dashboard\n",
    "dashboard(max=10)"
   ]
  },
  {
   "cell_type": "markdown",
   "metadata": {},
   "source": [
    "\n",
    "### To view tensorboard results click on tensorboard and then on `open`\n",
    "\n",
    "### Debugging:\n",
    "Widgetsnbextension are not installed/enabled. Fix:\n",
    "```bash\n",
    "pip install ipywidgets\n",
    "jupyter nbextension enable --py widgetsnbextension\n",
    "```\n",
    "Reloading the page, restarting the kernel, restarting jupyter might help too."
   ]
  },
  {
   "cell_type": "code",
   "execution_count": null,
   "metadata": {
    "collapsed": true
   },
   "outputs": [],
   "source": []
  }
 ],
 "metadata": {
  "kernelspec": {
   "display_name": "Python 2",
   "language": "python",
   "name": "python2"
  },
  "language_info": {
   "codemirror_mode": {
    "name": "ipython",
    "version": 2
   },
   "file_extension": ".py",
   "mimetype": "text/x-python",
   "name": "python",
   "nbconvert_exporter": "python",
   "pygments_lexer": "ipython2",
   "version": "2.7.11"
  },
  "widgets": {
   "state": {
    "00d67485f5364b91b8222cba4938da6a": {
     "views": []
    },
    "00dae1e0b0e445b8964b463d87efa8cc": {
     "views": []
    },
    "01c62683bf904dadbcd92494fb4a693b": {
     "views": []
    },
    "024d5e4af2314d10914fcdd8b0efbd2b": {
     "views": []
    },
    "03332bb13b4f47be8fe2ca87f55dd9b9": {
     "views": []
    },
    "03b10e8d006945b59f5485f5c6fd4c4e": {
     "views": []
    },
    "0434fd327c2040d4b16e0e9bb31b5d9c": {
     "views": [
      {
       "cell_index": 2
      }
     ]
    },
    "05f6b67b08e743f4ba5b9de4662f367a": {
     "views": []
    },
    "06168b8530cf45f1af8bb7db55a6a6fa": {
     "views": []
    },
    "0704d735fb1142859f95f63e88dac58d": {
     "views": []
    },
    "076e311e74a943b8a27e474e633c3753": {
     "views": []
    },
    "077e6bf840b3471dadc05e24eb35bfcf": {
     "views": []
    },
    "07c2b6d920c040068d241691f5d893bf": {
     "views": []
    },
    "07dbd31e04d6482c925bf843bc628afb": {
     "views": []
    },
    "086d7afb02e8402ab07a3a7ddbed7d7d": {
     "views": []
    },
    "0922b2989ac144548792a7d6a85c5092": {
     "views": []
    },
    "092c508354294c30847f13b848a82cc0": {
     "views": []
    },
    "09376624c2504e5eb4566c5169fde4d9": {
     "views": []
    },
    "09e85f29e9854aab9009f677081f1e21": {
     "views": []
    },
    "0a56841773f94466819ca261c4c6be4e": {
     "views": []
    },
    "0b0ffb4d0d2e4d3ab318ae2f0b902935": {
     "views": []
    },
    "0b7a862bfffe4592be5e04eff97a414f": {
     "views": []
    },
    "0c65b45516174412aef909926f9e0cb9": {
     "views": []
    },
    "0e4366188e554575836c82c407432b32": {
     "views": []
    },
    "0ee54133968a4e10854ff75703235e1d": {
     "views": []
    },
    "119e31e3fb1c4cb5a7e97c030adef1a0": {
     "views": []
    },
    "11a57c93b4ab4e19915921a7acd623d6": {
     "views": []
    },
    "11f2ee2f111e46e8acf137f9ce5728a9": {
     "views": []
    },
    "1292d7b3b453463498f27b07da5a228d": {
     "views": []
    },
    "129c0861db9c4f0ca578383ad5978f2a": {
     "views": []
    },
    "12d1b7932bab46bfb94724b6c6f6dcb7": {
     "views": []
    },
    "1323794c6c0e47c089441a78bd11bffe": {
     "views": []
    },
    "1437cd469ae9408aaec530dbda77a80e": {
     "views": []
    },
    "15a84c8427af45dd98ad185cac877656": {
     "views": []
    },
    "15cc525c84bb47958e7a3b133bcf32de": {
     "views": []
    },
    "167d26311ab743faad5554fafcd92512": {
     "views": []
    },
    "177c3892d2d94e41902b6a1805dcdc54": {
     "views": []
    },
    "17819ca15b944328b278e9c15e7beeaf": {
     "views": []
    },
    "1870e0ca1525432e8b106d4cc5c1854d": {
     "views": []
    },
    "18f21bbc549346a7b096bd08c30fb048": {
     "views": []
    },
    "1936e0aef1d04d0183c421159093a232": {
     "views": []
    },
    "197ac66edeb443948982b691dcfc8240": {
     "views": []
    },
    "1983475bbd554875bf6671222b01f795": {
     "views": []
    },
    "1a3111546da34507bcbe1d0ec1644f71": {
     "views": []
    },
    "1af13007ce3b431fa0e9bb3ce96e9064": {
     "views": []
    },
    "1bd860fbf73c4f9c9002810892bd791f": {
     "views": []
    },
    "1c03341abbf04912b17f64b30cace0ef": {
     "views": []
    },
    "1ca66a8c883c45d59b723f2cc6e264f2": {
     "views": []
    },
    "1d54958cd5a0411fbba3b06c3b94a2ef": {
     "views": []
    },
    "1e57ae7f487f4a53a237a741cc4588d2": {
     "views": []
    },
    "220e8f7512bc4acda4dda0aeb940c3e4": {
     "views": []
    },
    "221425268a074892bf22ec03321a29da": {
     "views": []
    },
    "235f41bd8be64c48a626aa0f3a7c85c0": {
     "views": []
    },
    "240f81e28ef54c819067eb48ae139cf3": {
     "views": []
    },
    "248031c671674fd590e3014ab33c9449": {
     "views": []
    },
    "257207f29aa747b59141daad051e987d": {
     "views": []
    },
    "26240603a27543fca32d86f3488c9f34": {
     "views": []
    },
    "268b1bf7a101444fa9dd5b0ff394bdad": {
     "views": []
    },
    "26a2f4316d9948d78e20f0de7fb6a9fa": {
     "views": []
    },
    "2761a965491a4527bf990e74f12c8a27": {
     "views": []
    },
    "276db405995243f9b531a1217968525a": {
     "views": []
    },
    "286846827ee04d3494ae93d26307290d": {
     "views": []
    },
    "28c5ac5db7a04665818fd14020c55620": {
     "views": []
    },
    "28dc8ea97b024ea7a1232d715bf27497": {
     "views": []
    },
    "2929bc07e4244b0587f2f9a209536d68": {
     "views": []
    },
    "2953d9dc2b5045caab95708675d70785": {
     "views": []
    },
    "2a821d88020d4a12aec726743fdadbb9": {
     "views": []
    },
    "2aeb42da1d354d74a4f2968f9798aeea": {
     "views": []
    },
    "2b018602b1864dfca17756969dc304ed": {
     "views": []
    },
    "2bfd105673a049bc8fcab48dd46739d4": {
     "views": []
    },
    "2c0e537d2dab4d0a8e68e9fa4f5e7a5f": {
     "views": []
    },
    "2c7b3f1fba9d4062985be8b50544debf": {
     "views": []
    },
    "2caf3adbdc994062be009397016ab826": {
     "views": []
    },
    "2ce8e5c76e8c43a799a1b55639b2500e": {
     "views": []
    },
    "2d1b87e0e9a5490b8ff0aced53e249ba": {
     "views": []
    },
    "2d8d308f1f244593b67b60b92f49fb33": {
     "views": []
    },
    "2f4fb058ccb54c2bbc020a95ef4b9ac0": {
     "views": []
    },
    "2fd5fe91f92549dc9e64edc79bf84f62": {
     "views": []
    },
    "30bccc4a46de40cfa871ba2c58465e2c": {
     "views": []
    },
    "3101e2ffe295439eafcb72bed40ec8a1": {
     "views": []
    },
    "31b239b7c41540478a6087b03e27f82e": {
     "views": []
    },
    "31ecfc1db8df488f92ce8ebd9556d3c2": {
     "views": []
    },
    "31fc4ec0089a4186924bffcc7de435be": {
     "views": []
    },
    "3241d15dd72748d3bee241a63a5843ab": {
     "views": []
    },
    "3348823e8e9647328c8d589dbdfd195a": {
     "views": []
    },
    "3354c2eabc8a4ded8dff1892b2ef5668": {
     "views": []
    },
    "33dd4ca1c3c84a299cf9fb03045067f0": {
     "views": []
    },
    "34abf762b59a45e7b21f2af2d295d964": {
     "views": []
    },
    "34e83d2229e540d28687c679f837b70f": {
     "views": []
    },
    "35261b7516af458499b0b7999d34253a": {
     "views": []
    },
    "352e5a7d01e64b24aa54fbc09f8d2a43": {
     "views": []
    },
    "35cd68bab3034d08af382aa2b92a390c": {
     "views": []
    },
    "35f37958c5614032a1f52dba90df3c1f": {
     "views": []
    },
    "37426d9529f44e9fb8a14db35b42add5": {
     "views": []
    },
    "375873a62e43436f82a0ab027f2817c1": {
     "views": []
    },
    "38240db401834e3092e3205d1dba4484": {
     "views": []
    },
    "38d887c86e8048ebb6601dbf26ac6524": {
     "views": []
    },
    "38ff65115158466eb88c11767099bdde": {
     "views": []
    },
    "396655f5d2504be591a9337a2a191464": {
     "views": []
    },
    "3a0614881f064a33b64a397033426655": {
     "views": []
    },
    "3a5f097402654e64bf8fb87ed3097fc8": {
     "views": []
    },
    "3b685cb8865b401fad6f4ff8be5cb6f3": {
     "views": []
    },
    "3c438bd44c984bbbbf4db14abcca972a": {
     "views": []
    },
    "3cf393b4a27a4db999d889320ccbd64f": {
     "views": []
    },
    "3d003e2560c44dada5a003d40fdecd78": {
     "views": []
    },
    "3d727479983942718adf1c1f00e7e101": {
     "views": []
    },
    "3dbad2ccf6c84b7abadf12b6f6435953": {
     "views": []
    },
    "3f50863109324b0582d822018933be08": {
     "views": []
    },
    "3ff3c6177a2946fd9ea7bb42e1169c9e": {
     "views": []
    },
    "4145ce862b564b4b9f8015e79e132dd6": {
     "views": []
    },
    "41f1b07dc392476d8d676deac836bf79": {
     "views": []
    },
    "41f1e10848e740f4a1a24641cffe4bd2": {
     "views": []
    },
    "42354af1448545b8a7438871fdf79f11": {
     "views": []
    },
    "4268de4896ec4e4d9a1e07d9a16079ca": {
     "views": []
    },
    "439d7b64a6694f41a9103da8b580558d": {
     "views": []
    },
    "44a0e92b719b4582a99a8a9014f9b1de": {
     "views": []
    },
    "45aa9fe907554e8da634c0841d5b4078": {
     "views": []
    },
    "4636e241acc44fcabbaa49061bf015f1": {
     "views": []
    },
    "469a0d5173a44ad68aa0545655399b0a": {
     "views": []
    },
    "46b79365184b4a60841e91900d88ee8b": {
     "views": []
    },
    "46c07fb42c644837b51b944e74f8045b": {
     "views": []
    },
    "48791817ccd24f29a076e4ba5a5337e2": {
     "views": []
    },
    "4968b6323105458fab8657b9bb5d737c": {
     "views": []
    },
    "4af051841dc64624b8ee673d4271c08b": {
     "views": []
    },
    "4b05467e66f047be8a08e920adf2cd9c": {
     "views": []
    },
    "4b5dcfa066174ded89a9f41a3046bf92": {
     "views": []
    },
    "4b7fcbedbd674665aaf389e83fe9031c": {
     "views": []
    },
    "4e67075f44124c2d87c81cecaa9bc161": {
     "views": []
    },
    "4ecb7cacb6a54ea6bc680e0a2873d985": {
     "views": []
    },
    "4f11acbc96bd4d409d75d0ef50831992": {
     "views": []
    },
    "4fbb1324e81c416d905a5d63d9eb2c34": {
     "views": []
    },
    "502c3b462c6f463a98c77c26a48effb6": {
     "views": []
    },
    "504e91c084c049ae9e449f2ca2c2b5c6": {
     "views": []
    },
    "505405415bc44ddba28b607231209468": {
     "views": []
    },
    "517d0394ccd641f2863099535182c18f": {
     "views": []
    },
    "51fb0a241b874cb19522d29abfbc0317": {
     "views": []
    },
    "52083b02dda7446cadd1404444b73352": {
     "views": []
    },
    "52e0796dd741479c809ea28a496e4c57": {
     "views": []
    },
    "5428490a21da419db6db4f69da26bb83": {
     "views": []
    },
    "549be9322db443b9b34716784c482948": {
     "views": []
    },
    "54fce24a6ad642a19a6501054af8d019": {
     "views": []
    },
    "5531fdd5851b4152a4c6f0a5bc435576": {
     "views": []
    },
    "56cf1b33604e4e0bb889a46010f82aa8": {
     "views": []
    },
    "56f01299ab774354aaf5a7fb20f6748f": {
     "views": []
    },
    "5784db8f9eba485a8fba02e080bbb339": {
     "views": []
    },
    "58f73d1cc53e49cdb5e5055049521733": {
     "views": []
    },
    "59212217c76a4cbbae96b459b0646788": {
     "views": []
    },
    "5aa7078c78a44843a971b9f3c24d0cb5": {
     "views": []
    },
    "5b65e0d3498a4df38dcafdbb7859cdec": {
     "views": []
    },
    "5b730045e5d342f4b14f74c83a32afe9": {
     "views": []
    },
    "5b86d63b507d4c22a0033432ddfadaa6": {
     "views": []
    },
    "5d7531ccebe349c3ab626721280fce22": {
     "views": []
    },
    "5f742125f2f04068bbc86b74df77caca": {
     "views": []
    },
    "608855738a26460dbd8856f7ea645790": {
     "views": []
    },
    "60d4b7f7359a4829a72524f1759bde68": {
     "views": []
    },
    "621c50504a5940308041d38d8525df30": {
     "views": []
    },
    "64b685f347d84e24be9c37cccf85763f": {
     "views": []
    },
    "660f75ea5ceb48acb0166423c116277d": {
     "views": []
    },
    "660fceeefa9e4c748fcb474377c0025d": {
     "views": []
    },
    "665196a97b1d4e9d909b7505d5af9aab": {
     "views": []
    },
    "6673f31687764d51b8746f4a685da8fc": {
     "views": []
    },
    "66818d37e1a04430856a94b8db7b118f": {
     "views": []
    },
    "6812e74c825c48909b636b80e3be3a9b": {
     "views": []
    },
    "684dfe234138488d924081659957c805": {
     "views": []
    },
    "68ad73d55b0743c68f05c44080ca05e9": {
     "views": []
    },
    "68c304c507c546f8a782794f1fa33966": {
     "views": []
    },
    "6ac75932bc8946a6865fdb78ed1b225c": {
     "views": []
    },
    "6ad6855bb8f8417595a4e4faee884ea6": {
     "views": []
    },
    "6b2f8ebf1d1a4967a6c2d9840e480c80": {
     "views": []
    },
    "6c531c6bab2b460f9cb77551771cb904": {
     "views": []
    },
    "6cd781edd6a0478cadb2f478f2c75c65": {
     "views": []
    },
    "6cf1faee4d9e480f9d2f20f60dff4cab": {
     "views": []
    },
    "6d34120c172a485e86612f7876ca8528": {
     "views": []
    },
    "6e7f7cfae0b24e608a109320fb387787": {
     "views": []
    },
    "6e8e5ff82bae4c1480daceebf958f194": {
     "views": []
    },
    "6ea28a88ee9e437eb07a361841d0e4b2": {
     "views": []
    },
    "6f1112a1123d43c1825b39ca33fca1c2": {
     "views": []
    },
    "6f677f205e914e06b40694e5f16f3c01": {
     "views": []
    },
    "702e84d3d72048b486ede48f0b3516fb": {
     "views": []
    },
    "70591b9aec644b738aa04851492388d4": {
     "views": []
    },
    "7143ad1e3bfc4f69a203082a0df5d0c2": {
     "views": []
    },
    "734decdd431c47b9b9d67277794ffa21": {
     "views": []
    },
    "739e79f6c4a74e429c963723421fe183": {
     "views": []
    },
    "741e076151834fee8410cc01fcc66b02": {
     "views": []
    },
    "744ed8ef93c0455fb57ba804b83ed905": {
     "views": []
    },
    "74c665a9e01140ae8b1761408fe438e5": {
     "views": []
    },
    "75aa6f9f3dfd4ed794557b8c3acda3d3": {
     "views": []
    },
    "762a992f6e9f4975893170abf5e737dd": {
     "views": []
    },
    "76f7b10623d741f1b788b3cfa1c48991": {
     "views": []
    },
    "79d92f064dde4c7a9504d4d471192a05": {
     "views": []
    },
    "7a79ae702ac34214980460e74a41c404": {
     "views": []
    },
    "7add6609bebb404e81fb6deb5bf82924": {
     "views": []
    },
    "7b1092a31eea4d7889bdef24ff7e40be": {
     "views": []
    },
    "7bd3abf1c77a4da8aa327989ce0e8b80": {
     "views": []
    },
    "7be4addd998d45d7a6f596730107cb81": {
     "views": []
    },
    "7c8328c31e3b4c5e9bcde942ceea6d55": {
     "views": []
    },
    "7cb45b37ff3c461484ff9379ed93ab32": {
     "views": []
    },
    "7d9a520fb1cb436a8c96ee3739702a93": {
     "views": []
    },
    "7de2979857a649e595739f09950622a3": {
     "views": []
    },
    "7e85916319354087abea81c73ff349df": {
     "views": []
    },
    "8078900fe33143f5a31c4964cf8eed3b": {
     "views": []
    },
    "807fe1fd4a7547548a777abaab444fe0": {
     "views": []
    },
    "810293af838c47ec84ce2399d855f1f6": {
     "views": []
    },
    "8179327ae77a4ebfab9777c8c54560fc": {
     "views": []
    },
    "817be7189faf4d868d87e620be7ed5de": {
     "views": []
    },
    "82f3a64b43794e6bb8492b8c9a8dd859": {
     "views": []
    },
    "8384294520af4ecdb595eee254cc740f": {
     "views": []
    },
    "83cc64183b1b4eb9a15b2990b7515192": {
     "views": []
    },
    "83fd90bb5c2743768edba5f7152ceced": {
     "views": []
    },
    "841ad425ba0b4599a524f3fdd1bebcfa": {
     "views": []
    },
    "84579d98d800442eafea2512f67f39d4": {
     "views": []
    },
    "8574ca46f06c45f7b77854db1631d9ee": {
     "views": []
    },
    "86bf430a7ff54f91b5aa9999d3c4f9ca": {
     "views": []
    },
    "877cfe2e94ee4c1682bde79485ffa160": {
     "views": []
    },
    "87c1849485a442168e4e97a1d38cf77e": {
     "views": []
    },
    "87d977ea25d84ad3bc573b855292a593": {
     "views": []
    },
    "87f8d19248134aab92e50b7092a98fed": {
     "views": []
    },
    "888cce29bd8f4a3caf41644eae8398f7": {
     "views": []
    },
    "8be3a412b466479489576b7cff32b1f7": {
     "views": []
    },
    "8c683732f5274ca6a2c22ad00602972d": {
     "views": []
    },
    "8c919cab8d924711ab197b0ba6368412": {
     "views": []
    },
    "8d80f9a1d4c441c3961141827f9ce7e9": {
     "views": []
    },
    "8dda85ec4e6b492bb9753c0e735f10d3": {
     "views": []
    },
    "8e5325ced4974d17b87c4649da226a5b": {
     "views": []
    },
    "8e66faed788e48298371fddd80646411": {
     "views": []
    },
    "8ea95f5085f64862a6049c8512a5b6d0": {
     "views": []
    },
    "8ec7b169701141818f7d4c0ff22f8005": {
     "views": []
    },
    "8f7c7e839b3c4681823d9f20ff47f9d2": {
     "views": []
    },
    "8fd1feefb1a04cb6b240d65a83f7e1d2": {
     "views": []
    },
    "8ffd1fdb2b9e448382b51a2711ed1bfd": {
     "views": []
    },
    "9055da84d6024a1cb350f1302dceca0e": {
     "views": []
    },
    "90711ed0c440481f8c9d8f67a25a1b54": {
     "views": []
    },
    "90a58f9163914bf58cd26797a57c52bf": {
     "views": []
    },
    "9110c6da07c947568287920e8ac14f03": {
     "views": []
    },
    "916bd07e64464a1cb1f1ee46c023aa72": {
     "views": []
    },
    "93a8d8270c0142afb7eeafa694378fd5": {
     "views": []
    },
    "93c1c9c1f3d24eb8adb700d75002e157": {
     "views": []
    },
    "9476ab32f4564819a4cc82bbe5ba3faf": {
     "views": []
    },
    "959ab76f54bc44a196b6f706dd275570": {
     "views": []
    },
    "95a0546f87654dbd86c76f36a2fe5884": {
     "views": []
    },
    "967926538ce044b888a728456f630634": {
     "views": []
    },
    "96def0bd1d304977b90111405981a6b4": {
     "views": []
    },
    "973d8dda594a43d493e7de1c9c9b7388": {
     "views": []
    },
    "978a056b57f7492a8ce346ecf285bea1": {
     "views": []
    },
    "9866d6dd724241e3b14eb399b657deb1": {
     "views": []
    },
    "98ac1ee8494c4a8e9046abff0ebc3b49": {
     "views": []
    },
    "98cdee3072df4b688548b0a06e7beb89": {
     "views": []
    },
    "99023354bbf940e699aa22f4cd4495c2": {
     "views": []
    },
    "9940de1bddb74fe2ab633d7d92af2c8d": {
     "views": []
    },
    "9a2965f9c7ed4323b33f62bc448b0949": {
     "views": []
    },
    "9a6b35220436445d8eeb05f34307a9d0": {
     "views": []
    },
    "9adf988d568c4f40a43509669f0cd3b3": {
     "views": []
    },
    "9b4f73565f0b41b7b6a68361a535b979": {
     "views": []
    },
    "9b862941bc4a4ac38179207e52f42fba": {
     "views": []
    },
    "9c5f95aa4bfe4ae8bc9d24dc2ee69167": {
     "views": []
    },
    "9c899ffaeb634c3092436154644a89d1": {
     "views": []
    },
    "9d870661f5224ea78c10d652bc412319": {
     "views": []
    },
    "9dbc4803df5c4100a1b7096a9e15f568": {
     "views": []
    },
    "9fc2bfde442f4e539fd3d62e4acf7609": {
     "views": []
    },
    "9fda98f676e24dbca4f9fcccc1ff43fb": {
     "views": []
    },
    "a0c1ace53c264a86b6a05080f957b5f3": {
     "views": []
    },
    "a0e8e360849845eabc3afc78152d79bf": {
     "views": []
    },
    "a3ec60eb39f5409191f354e07928775c": {
     "views": []
    },
    "a46b65965d9642ca87452b07db0a7d36": {
     "views": []
    },
    "a491d7f7c4804f4b86df4e0bef47e8ab": {
     "views": []
    },
    "a58213d9f6884e719c1015a01df01c5d": {
     "views": []
    },
    "a665a4a095e047eca94b3033cf3dae12": {
     "views": []
    },
    "a6f1d9fdc81446e880bfba58ba237bca": {
     "views": []
    },
    "a845a586e3834df38facfc3fc974998b": {
     "views": []
    },
    "a8b4f451f1e54bc9b0efc4f6e451cd53": {
     "views": []
    },
    "a9d98ca939d34731ab1b939880e4864f": {
     "views": []
    },
    "aa7b0ad0b1a440aabd477028a751e840": {
     "views": []
    },
    "ab1c72832aa34bf79ef1ae5d17e8a610": {
     "views": []
    },
    "ada4e91fdeac49de819f9689360cd671": {
     "views": []
    },
    "ae31fbbd2173435e9a900a56c29f5004": {
     "views": []
    },
    "ae4e4b4e4a1241028b0b2f1549eb2554": {
     "views": []
    },
    "af6d5925319a49b7bb13f9b7da1f7a0e": {
     "views": []
    },
    "afa1373ab46f41f4a9b0127313baf240": {
     "views": []
    },
    "b000a5c76b684e40863ce916b5aa5693": {
     "views": []
    },
    "b004b45d76bd434ba684a4a1f8315ec5": {
     "views": []
    },
    "b03c16f2e7e84afda87f03e8fdc3d992": {
     "views": []
    },
    "b0f572257d874cf6b719b6416650f2c3": {
     "views": []
    },
    "b2cfb0522c5c47079f99128e57955025": {
     "views": []
    },
    "b31e362c8c204e4e8de8d98063939622": {
     "views": []
    },
    "b3aa3e86cccc40e8b0b47cfe508315c1": {
     "views": []
    },
    "b4e134efbe444a4e92155e46a6fcf393": {
     "views": []
    },
    "b586975a215f4b3ba224afaf5efe170a": {
     "views": []
    },
    "b59bb541b2ea4a3c962e3b506b1503aa": {
     "views": []
    },
    "b6aea0cfdf4849b6a77e643311227a79": {
     "views": []
    },
    "b71771adcfbd488a85cf444200a2212d": {
     "views": []
    },
    "b730e4a29d61421483dfbefe47448b22": {
     "views": []
    },
    "b73d263831f24131b65945b7a05cb07d": {
     "views": []
    },
    "b7dd42c11fc34b8880885f6616c43d4b": {
     "views": []
    },
    "b862b98b785b4e05a245143572f00397": {
     "views": []
    },
    "b8bc7b5906ed400ba187653ee16bc891": {
     "views": []
    },
    "b93ec7032e53436c9a22b10694d1614f": {
     "views": []
    },
    "b9c403dbc18645d7bd786273ba8ff423": {
     "views": []
    },
    "ba5c72059920470592f2857e71aa1331": {
     "views": []
    },
    "bacfcc54fbb7478f84f2076eff20f06f": {
     "views": []
    },
    "bcd42f18134a4114942e9a3627ab9785": {
     "views": []
    },
    "bddaf0b130da4a3895b7cce6ba9a967a": {
     "views": []
    },
    "beb46e57a3b846798227056393e3f9d1": {
     "views": []
    },
    "bef478d5631f46da87a5c9d942fc9c88": {
     "views": []
    },
    "c16db9b48bba4d0c9b50ba263192ccb1": {
     "views": []
    },
    "c464c341d8cc470680b9d85f281ca881": {
     "views": []
    },
    "c52202deba5744099fd3234e271e3b49": {
     "views": []
    },
    "c5835e2a945c485c91cacbdc350e3e37": {
     "views": []
    },
    "c60ea02cc798443ea9a7481308177576": {
     "views": []
    },
    "c63662724c8140eab1adb943584d1e86": {
     "views": []
    },
    "c65318cf3c09488793691ca366cd90d7": {
     "views": []
    },
    "c680ee0579b04dce969ab322ffc5c239": {
     "views": []
    },
    "c7ab310835724ed5abfad128e1cc7326": {
     "views": []
    },
    "c93c239186b447c9a3b500b344bd55c6": {
     "views": []
    },
    "c962cd19e1c04734bb25b8d81c76a8d0": {
     "views": []
    },
    "c9ed42450274465ebc9bd38c0e6d5922": {
     "views": []
    },
    "ca468972cf1f4072b111322086add416": {
     "views": []
    },
    "cb2d09a543b64e358472b6a6cbb36af0": {
     "views": []
    },
    "cb89ca54a97348448efd9ec100fe4293": {
     "views": []
    },
    "cc770ea851814757a1e50a0b8aef70cc": {
     "views": []
    },
    "cd6eab4c3878467baa098bb40ba8dc44": {
     "views": []
    },
    "cdd0596c76e24a5d83ca1b5910f17b8f": {
     "views": []
    },
    "cdd0e525ff314ba493e6cc2eeefc0697": {
     "views": []
    },
    "ce4b7a90052940c0bc3fefe74db17eeb": {
     "views": []
    },
    "ce8e3a1e70e242c09b522fd9c321681d": {
     "views": []
    },
    "d0db194c57c943e9a9b97f80e681d5ed": {
     "views": []
    },
    "d0e464efac654869874886ea8a34e6d2": {
     "views": []
    },
    "d297045009d045f285db304a14ae32b1": {
     "views": []
    },
    "d3908a072e6d419bb4062a033cb546fa": {
     "views": []
    },
    "d3b18aaca31c4045b6664e3c4cafe190": {
     "views": []
    },
    "d3db0cde4dd0478391df9071f67a7146": {
     "views": []
    },
    "d4aa487aef3248838994a2fd8138c116": {
     "views": []
    },
    "d603fec6ec38485ea08300bd3e8f3a08": {
     "views": []
    },
    "d7ba273e8c6f4673b2d1d96e637552b5": {
     "views": []
    },
    "d95229baf12c48e6ba02c06e23b097b4": {
     "views": []
    },
    "d9c72bd0459642b181cf80f53c38818c": {
     "views": []
    },
    "db25438c71714912871d8e1e934e2a23": {
     "views": []
    },
    "db55b94b18154f02a9c7eca8d91e0496": {
     "views": []
    },
    "db8ec732963447409c41bb2302679e5a": {
     "views": []
    },
    "dbc0794b1f44430f8745ec682bda25da": {
     "views": []
    },
    "dbe9ab84ba4e44ff8c259d907d76bc84": {
     "views": []
    },
    "dc3bdc345a524acf84af68108ea6a2d3": {
     "views": []
    },
    "dc43999165344429bc806e926b9095f7": {
     "views": []
    },
    "dc49921e87894194af683228be269f34": {
     "views": []
    },
    "dd3744eec1374d7e9abfce13b85dcf0e": {
     "views": []
    },
    "dd7b3873364f460d8f4b79ead9fd5fc6": {
     "views": []
    },
    "de4cc797d74546f3aa5a737355930fc3": {
     "views": []
    },
    "de9cd07876c4474b8471a0e5e62e6a81": {
     "views": []
    },
    "dfde5ede7d624006b7fc77fd9fbc75ee": {
     "views": []
    },
    "e04c9758b220496b9e33214467bd63ac": {
     "views": []
    },
    "e0e2fa5289bd42488ee51a2bae3e10c2": {
     "views": []
    },
    "e39605b98df8438daaac0912987aa684": {
     "views": []
    },
    "e447c806517d435db76e658e330c25da": {
     "views": []
    },
    "e44e90c100ca4dab8338c28652e68654": {
     "views": []
    },
    "e4612d254d4a43abb478540b256d8ba1": {
     "views": []
    },
    "e479d71e721e42faa28486e283f17b37": {
     "views": []
    },
    "e690d293036146848c60ea996e46ee93": {
     "views": []
    },
    "e6b70d75ffa647c6b5704ed71b6c42e5": {
     "views": []
    },
    "e718e4aef7e941e09a13168812292d71": {
     "views": []
    },
    "e74ce6a7a8844b779f2d00bcaf207a21": {
     "views": []
    },
    "e788e50ce6b1470bb09e44035919f616": {
     "views": []
    },
    "e7b05130ab274f3cbed93624e38cd867": {
     "views": []
    },
    "e7fe7a1a4d344f18aefc24737aad127d": {
     "views": []
    },
    "e918a64615f84e5e9a6510d7ef269d2d": {
     "views": []
    },
    "e91f11afa22948f9b7fc83a08499cb54": {
     "views": []
    },
    "e932d8f2421149b0996d16f63004845c": {
     "views": []
    },
    "e94001a0b9fa40c98935420200b3b8e9": {
     "views": []
    },
    "e944c27c09d84adebc562b33a1842bfa": {
     "views": []
    },
    "eb53143c713d45d89b6c3a40e348cbba": {
     "views": []
    },
    "ec6c9ee71bbd49feb7356520c5f656ef": {
     "views": []
    },
    "ecb0f52d2a6e416db4429d64e0227a04": {
     "views": []
    },
    "eccb0e1626974d5d829c02b7bea19815": {
     "views": []
    },
    "ed515f90cf1e4e95b630f9a02113d4cc": {
     "views": []
    },
    "edba0d79b422455487624d1eed90f3b7": {
     "views": []
    },
    "eeed432e6204462196ba1a7572ed7563": {
     "views": []
    },
    "efd168efe8a04771851b0ac0b055381a": {
     "views": []
    },
    "f15ed0a39ba140f498e620aafdca00fd": {
     "views": []
    },
    "f29a17a9aa694aa08392445f0a9a93b1": {
     "views": []
    },
    "f2ee8a2de0124eccaed75467e3196e44": {
     "views": []
    },
    "f549aa63f2c644ad957012fabb691333": {
     "views": []
    },
    "f5b53b8921a8463d81153750c835b5ec": {
     "views": []
    },
    "f6154a87647b4bb8941fff8a12ef9911": {
     "views": []
    },
    "f6b047bd6ba7448d86fddb081b9d1219": {
     "views": []
    },
    "f710c9e344ec4ea1a0ba490bc6fd6cea": {
     "views": []
    },
    "f8139d3537f54dc98a93d6f8dc0fccb0": {
     "views": []
    },
    "f81df4fd9908461ebcac105adf474129": {
     "views": []
    },
    "f84a869c676641fca01dba246ae0b445": {
     "views": []
    },
    "f85f18a8569240aba7ca2ce8aaa3610a": {
     "views": []
    },
    "f8a4d3aa09ec4d35aa18d4ffdf545ff1": {
     "views": []
    },
    "f9318288918d42aea856660c73e8a354": {
     "views": []
    },
    "fb337d67de5a4ddf9f05b86ab1756d95": {
     "views": []
    },
    "fb6878f4ed874f8793c82e86470d8fa8": {
     "views": []
    },
    "fc680e12c8014a76bbab71adbe5581f8": {
     "views": []
    },
    "fc6d0ea4106e4d369fe5b105b6d722b7": {
     "views": []
    },
    "fcae782bf1f54aa9a72fc1b7488f98bb": {
     "views": []
    },
    "fd569585d4b04928b034d8761604f9dc": {
     "views": []
    },
    "fd75708bb6da428db00c7ee7d92948b2": {
     "views": []
    },
    "fda34f562d084a69be8c0a3c4241b991": {
     "views": []
    },
    "fe2a52636cde4a1db10852e5e2b5643d": {
     "views": []
    },
    "fef12238548248a3853ff0c7cfb319c3": {
     "views": []
    },
    "ff94c60dd2d045a2ba91611a9f866508": {
     "views": []
    },
    "ffc3e8f130994ceda4206d18bdb3e4e3": {
     "views": []
    }
   },
   "version": "1.1.2"
  }
 },
 "nbformat": 4,
 "nbformat_minor": 0
}
