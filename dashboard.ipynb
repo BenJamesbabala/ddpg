{
 "cells": [
  {
   "cell_type": "markdown",
   "metadata": {},
   "source": [
    "# Dashboard "
   ]
  },
  {
   "cell_type": "markdown",
   "metadata": {},
   "source": [
    "### Select cell below and press *Ctrl+Enter*"
   ]
  },
  {
   "cell_type": "code",
   "execution_count": 1,
   "metadata": {
    "code_folding": [
     0
    ],
    "collapsed": false,
    "scrolled": true
   },
   "outputs": [],
   "source": [
    "from dashboard import dashboard\n",
    "dashboard(max=10)"
   ]
  },
  {
   "cell_type": "markdown",
   "metadata": {},
   "source": [
    "\n",
    "### To view tensorboard results click on tensorboard and then on `open`\n",
    "\n",
    "### Debugging:\n",
    "Widgetsnbextension are not installed/enabled. Fix:\n",
    "```bash\n",
    "pip install ipywidgets\n",
    "jupyter nbextension enable --py widgetsnbextension\n",
    "```\n",
    "Reloading the page, restarting the kernel, restarting jupyter might help too."
   ]
  },
  {
   "cell_type": "code",
   "execution_count": null,
   "metadata": {
    "collapsed": true
   },
   "outputs": [],
   "source": []
  }
 ],
 "metadata": {
  "kernelspec": {
   "display_name": "Python 2",
   "language": "python",
   "name": "python2"
  },
  "language_info": {
   "codemirror_mode": {
    "name": "ipython",
    "version": 2
   },
   "file_extension": ".py",
   "mimetype": "text/x-python",
   "name": "python",
   "nbconvert_exporter": "python",
   "pygments_lexer": "ipython2",
   "version": "2.7.11"
  },
  "widgets": {
   "state": {
    "00f563d7b0434231bc67e90c64e7d582": {
     "views": []
    },
    "0120d359690944e08ece8af29e75c559": {
     "views": []
    },
    "01220a9c2f3d4aeabcd556a94ae7d44f": {
     "views": []
    },
    "01bd392a90aa43d7aaebd03f8f58ce15": {
     "views": []
    },
    "0416ff3171f742448ef4e5aa7b17f4ae": {
     "views": []
    },
    "04b255fe161c47be874833d96f4f1a33": {
     "views": []
    },
    "04bfef908c9242f0a3fea7a9b642d9f4": {
     "views": []
    },
    "051223ad212b476cbec17d47e8a35da5": {
     "views": []
    },
    "051a2d384a284389b7114ecd1179e26a": {
     "views": []
    },
    "062bc0e0202e4ad784752203a26595fc": {
     "views": []
    },
    "06fd2dbd2cdd4fb583393f99d59611c6": {
     "views": []
    },
    "091ef143d45040aeae0871df749d42ed": {
     "views": []
    },
    "0b3ff44f0de64237b05f30279b299fda": {
     "views": []
    },
    "0b6883e1d19c475c8d5d2cc4a557e78a": {
     "views": []
    },
    "0beaa14015b54c0b82461b7462d115d1": {
     "views": []
    },
    "0c2c93f054f740df9eb36f5339af8efb": {
     "views": []
    },
    "0c935920109842c79bd5bc89a102789e": {
     "views": []
    },
    "0d4ed7693fe14223a943707980dd8ead": {
     "views": []
    },
    "0d721c79083144dab668dac0f56df8d0": {
     "views": []
    },
    "0d888e166d7a4e9cb719edbbaab45050": {
     "views": []
    },
    "0f944aae85854ab8a79c201ef530ff14": {
     "views": []
    },
    "12dfa804079a404da24f98ed8786b51f": {
     "views": []
    },
    "131278a1c8e64eee9e3620e25319ebbd": {
     "views": []
    },
    "13fdbf0292344f5c8023d59170764ab8": {
     "views": []
    },
    "15b7fb0fb3e54858b82a70928242add8": {
     "views": []
    },
    "162f262f275e41708e9f1ad6a96e2087": {
     "views": []
    },
    "1672a7d5db7a402b9bb21d090c79ae44": {
     "views": []
    },
    "17162fedc8d44f269dc11299b87f4848": {
     "views": []
    },
    "175966a39fab4742a6a7599c09563e5d": {
     "views": []
    },
    "17c4d0b88f13494d8dfe557ac8663e40": {
     "views": []
    },
    "1800e280047d4da18393f97fff9542af": {
     "views": []
    },
    "1869b099749c4abcb338bb9848d90f65": {
     "views": []
    },
    "18e5107a4ce6402494c2a9b73c14864d": {
     "views": []
    },
    "1a0d975005224271be2556c431b37581": {
     "views": []
    },
    "1a7b8cdf7f2346a8a3b8e04220492e1b": {
     "views": []
    },
    "1ac2f09b9ede426b9c2928705ff383ea": {
     "views": []
    },
    "1b2aee8529ca4fe9b6ed702ea7bd61b8": {
     "views": []
    },
    "1b4b33a7511a4843b3166c4bc94a4666": {
     "views": []
    },
    "1b6b72a195584e2697e3f7e9ec2fcc3b": {
     "views": []
    },
    "1b8f02b0df674f7eb68029844a654029": {
     "views": []
    },
    "1c42d63cb4ae406297d217d09f4cc62f": {
     "views": []
    },
    "1d40b1a209054455ac7a7b86f7ad5419": {
     "views": []
    },
    "1e07c5609c20441292b6a766210e7a11": {
     "views": []
    },
    "1ea3444d5e364eea8f86b5f3bfc5a8c9": {
     "views": []
    },
    "1edca615cb474ad395075f6f58dd3507": {
     "views": []
    },
    "1f392b4bf2544584989e2f1819b6c7d4": {
     "views": []
    },
    "1f81c74629574b90b67cc2625646bc62": {
     "views": []
    },
    "20ffe3a9975948c4b3baaa6ba326364b": {
     "views": []
    },
    "2131a7bcba30443383ce1c8511ce7646": {
     "views": []
    },
    "219c950ea383425c8c670506ea1eb9ff": {
     "views": []
    },
    "21c861bec735469bb219288320aaeccf": {
     "views": []
    },
    "21e7556d61614171995e05fb9c57bda5": {
     "views": []
    },
    "2304727a100b4a66a83aa51dd1cc3b25": {
     "views": []
    },
    "2374390d8e40400780baf7c68d170417": {
     "views": []
    },
    "262266a16b2846cf8a89539819709326": {
     "views": []
    },
    "26e9fc8d8b5a498ba3b7c44cce318a95": {
     "views": []
    },
    "2712b7943f02492baae11bfbd49acc0f": {
     "views": []
    },
    "280a138cee584f5b953cfd8ca4ae241c": {
     "views": []
    },
    "285506f9cf3040219bfe8ba520038796": {
     "views": []
    },
    "28cf41606adf476794a38dfecdb3839f": {
     "views": []
    },
    "293ac66f30ce4d6e822df1fb69977d4c": {
     "views": []
    },
    "2ad82835fdb240f09c6a8ba7638db679": {
     "views": []
    },
    "2ae0afa6c46a4b75be9b4c6621ac2024": {
     "views": []
    },
    "2cddbc4482c348118169125b510c3f96": {
     "views": []
    },
    "2cfc088d7a53448eb7f84681349c3bca": {
     "views": []
    },
    "2f728fab8ebd4bf0b165bf9012145f68": {
     "views": []
    },
    "3091ad9412394257b108b7d41e8f0ce2": {
     "views": []
    },
    "31d44c3cd9be4aca8a9850ea71ad33ac": {
     "views": []
    },
    "32779e9271904ccfa472a788c310a754": {
     "views": []
    },
    "32b2ae807e9341bcb94961046ef6a459": {
     "views": []
    },
    "34252f1a5f654fd4aa2d3f9702079cac": {
     "views": []
    },
    "35a38dfdb9d546398dc7580e9d30dcf4": {
     "views": []
    },
    "35abba141adf4ca58f5ed771820d49b8": {
     "views": []
    },
    "36acc0681f264583851a9fa0ba48771a": {
     "views": []
    },
    "3761728cfdb541cb92a763bf5c0c5570": {
     "views": []
    },
    "376e0e9fa9874638a7060ee01d5ed500": {
     "views": []
    },
    "38b878d930084f9cad820d5d13b21837": {
     "views": []
    },
    "38d093b449ea43788dc654709890afd8": {
     "views": []
    },
    "393555961cb7487c9587fac932506a41": {
     "views": []
    },
    "3b7170a2d11c45c4973284db9a4f5ee5": {
     "views": []
    },
    "3be850fe6e7b4be8a43acc8ace9ee8f7": {
     "views": []
    },
    "3c95277be3634c99b842edb786086278": {
     "views": []
    },
    "3d3f67e7667d4355b5c602a83dba2aac": {
     "views": []
    },
    "3d68687e589747d3a69c035a27a5d27c": {
     "views": []
    },
    "3de4ac5aea9c4ecfbe37e44baf8bdd18": {
     "views": []
    },
    "3e80ea9353874e538c7fee096673cb5f": {
     "views": []
    },
    "3ea2aa3bba354bdaaa23977f63c8a5e1": {
     "views": []
    },
    "3ea4ab64d6584770b04a9f8ad6f1dc4b": {
     "views": []
    },
    "3ec3f81ad7334a9dacc50695618d67e9": {
     "views": []
    },
    "3f0b92a4970e4f3c8306cf8dc4b1a10a": {
     "views": []
    },
    "3f340bc522a54243802167e4e026c6f1": {
     "views": []
    },
    "40bd5bb31476448f97634100cf4287ce": {
     "views": []
    },
    "40db58d1a4314e4eb7939aa9a23ed628": {
     "views": []
    },
    "410fe019c4774da7a0738cabbde82855": {
     "views": []
    },
    "41529a806e8844b386e65f918eb00b7c": {
     "views": []
    },
    "4169fef08dec456d81eb673c1360a0f2": {
     "views": []
    },
    "41d048c3a6f24583b0f7681b202a74e7": {
     "views": []
    },
    "440e83fe5956477a996f254e509917f7": {
     "views": []
    },
    "4592791b572a47928127a3214bce51a9": {
     "views": []
    },
    "45af41676327432eb168468b3fce9674": {
     "views": []
    },
    "45ce9c9176894905b0aef1c5f5d37cd9": {
     "views": []
    },
    "46f5b522425f4d5d8fadd2ac3f993e0a": {
     "views": []
    },
    "474a4e65b53c4d61b5a8f316653ffa6e": {
     "views": []
    },
    "47e34c67e32149cfa8d9772b9a81990d": {
     "views": []
    },
    "4880b4b86db449a3a6c35b56f3de6901": {
     "views": []
    },
    "4a4ea2cfda4c46aa948e031a5928e6c5": {
     "views": []
    },
    "4b8c62dbaaab4914ad1bb45c568ab2cd": {
     "views": []
    },
    "4b9cff165d7b45eebd2dd88725968b72": {
     "views": []
    },
    "4bf6ca541c46413db717b37b44fa046c": {
     "views": []
    },
    "4c490760649540cc9eb46f6a5415b303": {
     "views": []
    },
    "4dce9a955ea842c7b321f790ed3386db": {
     "views": []
    },
    "4de4884248a140379df8e0573dcd9f43": {
     "views": []
    },
    "4ed6323cf79f41b081e8a826141614a2": {
     "views": []
    },
    "4f43ac2ca31f48f88b8eb05b6e277759": {
     "views": []
    },
    "4fd3a36e39ac4a278e7608fb5873e4c7": {
     "views": []
    },
    "5025840d6da6491aaae7197ac69bf422": {
     "views": []
    },
    "5152f9630de7423f90864d36bf738f28": {
     "views": []
    },
    "51f4c297d33d4cf9bcd5d730d8469f8c": {
     "views": []
    },
    "5483b30616b8476aa955919877b30a3d": {
     "views": []
    },
    "55b52722c3154d748038dc1460b06dd8": {
     "views": []
    },
    "55dbad1983c147e88c502dc53c772b13": {
     "views": []
    },
    "55ee702e201a4c59a2b85b1a8f096e51": {
     "views": []
    },
    "56d8a45a44944bf4a7aa7139b1a10dca": {
     "views": []
    },
    "582c41abf27e4484996faef974f1a940": {
     "views": []
    },
    "5848472e55924d0d8bd485e9468fd70d": {
     "views": []
    },
    "58513c1c82d347b39746d1a62b9fd9cc": {
     "views": []
    },
    "58895cb8645f4de5b7b994859bea36e0": {
     "views": []
    },
    "597f550b66e64828bc4130e569445b28": {
     "views": []
    },
    "5b964751b03e48abaec7137cc3a8800c": {
     "views": []
    },
    "5bb5eff21ec64689ba8507567b0326e5": {
     "views": []
    },
    "5bbfe6fdf91f41c89ec7be4658f2b172": {
     "views": []
    },
    "5c90b44415b04f67b2471aac3fad3dd4": {
     "views": []
    },
    "5cb9b5e074564e079cef66ae3c92cea4": {
     "views": []
    },
    "5d49df95bb1e4388ada9cc0bddfd0661": {
     "views": []
    },
    "5d7b95d45ab344458c137f49e410ff48": {
     "views": []
    },
    "5f36bba10a3d4d90acd7cddc376b70b0": {
     "views": []
    },
    "5f608921cabb4b6c84b4ea0b31923149": {
     "views": []
    },
    "611296d79dbb4e6fb726da727cdd244d": {
     "views": []
    },
    "62835bc02efd494896c1ffbc38755ad1": {
     "views": []
    },
    "62b2adbe31ba465991b8ac5ad5bddabe": {
     "views": []
    },
    "62ed51210aca46a89f1b43af89eb8fbe": {
     "views": []
    },
    "641b501fcad444b18c924d0babac18dc": {
     "views": []
    },
    "644318e63dfa4f0695fb109759cce327": {
     "views": []
    },
    "64b55ff5fab6492e918b82fe0e1f85fd": {
     "views": []
    },
    "6677e0df4bfc47dcb57f6b29af31c657": {
     "views": []
    },
    "66931edd86cc4e8397edb0e4df9faaa4": {
     "views": []
    },
    "66f4fcf315c3482eb5496651faa269e1": {
     "views": []
    },
    "673ac72bd9824149bfe8d2be123d8c34": {
     "views": []
    },
    "67c4d23c658046e9abe3596715174833": {
     "views": []
    },
    "683ae696862644a2b9978b9dd1657916": {
     "views": []
    },
    "69903315e49e44b3b08695e459e44d0f": {
     "views": []
    },
    "6990cdcb72084d28b710e1f9f0610b4a": {
     "views": []
    },
    "6caddcb208d0481ab36019e2e0254db1": {
     "views": []
    },
    "6d8f3c1029c24b9aa6975d5d01e06947": {
     "views": []
    },
    "6fa2a5eacc2a4b0ba044356fbb17f054": {
     "views": []
    },
    "7012573a9e964e42938f5902775026df": {
     "views": []
    },
    "710565bcb8c2451686e9184e190c8054": {
     "views": []
    },
    "7118c797471f45e88ff52c625222d7e2": {
     "views": []
    },
    "717b927fca964df185e799eafb8d28eb": {
     "views": []
    },
    "722484de8c764bbe978a1d51e3293677": {
     "views": []
    },
    "73760ba76cad40cf9d1f13586370aee5": {
     "views": []
    },
    "74010a9d0eff4a698503e4f7d43d6f90": {
     "views": []
    },
    "743893b97ef94d7e91c2b8b0173dbcff": {
     "views": []
    },
    "7497e1a56c1347f7a622be142270921b": {
     "views": []
    },
    "7598b371010445e79b01270e1b4b0281": {
     "views": []
    },
    "75c0428ef09e4a2e8c70ca270fb2cca9": {
     "views": []
    },
    "76044fb7ca9247c0a22967d657025c96": {
     "views": []
    },
    "7662523b229a473fa13d5e266a23e33c": {
     "views": []
    },
    "78230cc2ed3a40d1b6ab8dee714869d3": {
     "views": []
    },
    "787c654459164878a686c309d99f3707": {
     "views": []
    },
    "7891d819b79e490bb6aef8456d192d0c": {
     "views": []
    },
    "78cc266a99484c898d39a5d95374c465": {
     "views": []
    },
    "79095be248294a4f86e6f33b22dd2ef3": {
     "views": []
    },
    "793b6979b19c405cbeea5d1267d225a8": {
     "views": []
    },
    "79994f5716284d5da75fb1a043453e77": {
     "views": []
    },
    "79cec9e900f847c6ad9d13d998ad545c": {
     "views": []
    },
    "7aa53dabaf6042c583f5ead3f58e6137": {
     "views": []
    },
    "7b1911bd298a4efdac392ad312ce1c47": {
     "views": [
      {
       "cell_index": 2
      }
     ]
    },
    "7b42f185b7bc4bc788e277c58e000981": {
     "views": []
    },
    "7c221f8df5184e5ea51a9f0801755a4e": {
     "views": []
    },
    "7d6493e18ee44ee3820fe0a31fd76cd4": {
     "views": []
    },
    "7da58790e8cb496184953a29f6ac488e": {
     "views": []
    },
    "7dcc8fc0dd034c6fbe95f5b12b97e6e8": {
     "views": []
    },
    "80110cfbfe324fa0b2db61679e764a84": {
     "views": []
    },
    "816b16deb34440b79e9df7f67a56707b": {
     "views": []
    },
    "839cd6231472487aa38500b727799ec4": {
     "views": []
    },
    "8468b20b870a44dda492914aec8b2b2b": {
     "views": []
    },
    "85d4249edd6e4fee876c53b27ae8bf12": {
     "views": []
    },
    "8620db859b8b44f1b12b181fcd84c18d": {
     "views": []
    },
    "86b1fb3d20da49feb388960fda720133": {
     "views": []
    },
    "88316eff08824fd58a878d89b1932c63": {
     "views": []
    },
    "8856ce8638cb422698393bd7f687456d": {
     "views": []
    },
    "88b7aa512ed24bbf85e877236706c72d": {
     "views": []
    },
    "894d65537f45422e80568a726e60fbe5": {
     "views": []
    },
    "89a0e54f0a5541f0a28f8f78aff79f96": {
     "views": []
    },
    "8aefd35a0d0f40ffb3647d2e71c634ed": {
     "views": []
    },
    "8b5060f33c214dffbabf6787c8f45122": {
     "views": []
    },
    "8bac5609fd1c42e7acb5fcae73f37e42": {
     "views": []
    },
    "8bb5c4800fee47b3ba4b43d9a0e208f9": {
     "views": []
    },
    "8db1a2d8aa4e4d44b1eb35e96e5f29b1": {
     "views": []
    },
    "8e195186a2d94305b8458d2b4a92e4e0": {
     "views": []
    },
    "8f3fbbd10435495c92c0a82642a06484": {
     "views": []
    },
    "8fd455a4faf1468aa5b8f1c3f1cabc66": {
     "views": []
    },
    "90eca552f297407c87e98900ecf70cc1": {
     "views": []
    },
    "91323d0659db4a29ad387f88ab463d50": {
     "views": []
    },
    "9221a34c02784483885d45f66f34b2ae": {
     "views": []
    },
    "926b7a4d2ca6418da508250c92ff42e6": {
     "views": []
    },
    "9298fcbe701146d7808cf8d900cc27d0": {
     "views": []
    },
    "92d4ad966cf1465cb5e1da51f713e6ba": {
     "views": []
    },
    "949aaa23fe09423da38436abb9a8c83b": {
     "views": []
    },
    "951b8cb8efd24173a3a76aa5e1aba6c9": {
     "views": []
    },
    "975e2714451f47b782387ab4128b4cd5": {
     "views": []
    },
    "986033489b224161a51d8174bd25d217": {
     "views": []
    },
    "9b8aebded5724bb7a39e7ada345769b5": {
     "views": []
    },
    "9bc8d0dcd5a543d1834524f05d35ded7": {
     "views": []
    },
    "9c5faf8134eb43b2b082a0e9615d713c": {
     "views": []
    },
    "9efd32baf3034eb193ee75789c71c1a8": {
     "views": []
    },
    "a08f1e245b504d47a038d6d2c0fe540e": {
     "views": []
    },
    "a101ea5f165b47e4a03de791960210cd": {
     "views": []
    },
    "a185883275f347ea94872f14856bcf01": {
     "views": []
    },
    "a1fa53be31124818abd2c7b586d37e61": {
     "views": []
    },
    "a20505767d63479f9b2890ec2ece2545": {
     "views": []
    },
    "a33cb60928ff49b9b2211d598d7fc12d": {
     "views": []
    },
    "a352d403898d49df912280e3bca3d256": {
     "views": []
    },
    "a36d3a3ffa56408cbe3a97a6ea97c750": {
     "views": []
    },
    "a3aca811a6d242b4ba8343d35a71c11a": {
     "views": []
    },
    "a43d3ade5619480583b6a26fad8a8847": {
     "views": []
    },
    "a4f04147000047c0b619f2df1b8f1e2a": {
     "views": []
    },
    "a6839434c0c44683962d70d2ab54079b": {
     "views": []
    },
    "a7f280f09621434489d9275e0c0be45f": {
     "views": []
    },
    "a81334f56cbe416fa170a324213fbc72": {
     "views": []
    },
    "a8d6759f2a8c44fcbfaf37a85861727b": {
     "views": []
    },
    "a91510d9f8784c178ca6776734ac38b6": {
     "views": []
    },
    "abff53e4eb224b88b3242ed86d3d5b8f": {
     "views": []
    },
    "aeb8bfea18c441eca31b2a5464a5a936": {
     "views": []
    },
    "aebd77e3e6074c2ba725ee5392aafd6f": {
     "views": []
    },
    "b0ab5be3a83544b58313686be8e22f61": {
     "views": []
    },
    "b0fab7bbcfac45439422bb8603fec4bc": {
     "views": []
    },
    "b1a5e120991a455c9cb48954e35de364": {
     "views": []
    },
    "b25510c138f44dcb8a2032aa945e1625": {
     "views": []
    },
    "b34165b3c8704f8ba66b67a1a7123a0d": {
     "views": []
    },
    "b39b2c2afaa2440e844e1f6cb92cfba4": {
     "views": []
    },
    "b477f8335de44b6da8dd2cd35d05d3df": {
     "views": []
    },
    "b518890e542c4bc8bbca421ccd5ae2f2": {
     "views": []
    },
    "b584f3bce9c9475f9fe7c6321f5b1b55": {
     "views": []
    },
    "b5a7ec345d634b168f585e390ad005d4": {
     "views": []
    },
    "b61aae4633694d2f93eb3da7e5ab7ff3": {
     "views": []
    },
    "b7aeb0f4fc8a486385ab327e8197c02d": {
     "views": []
    },
    "b87fb027de04453c95bdbb5ad83de6f8": {
     "views": []
    },
    "b8cb4a5eb0564033aae75f093c3ea9c6": {
     "views": []
    },
    "ba18579709db42f4a59aef16f95bd4dd": {
     "views": []
    },
    "ba2daf4fdf0a49b2a22cb21fd0e35c9e": {
     "views": []
    },
    "ba8a74b07cc548c49f417c40c442791d": {
     "views": []
    },
    "baf82b62ca274b0e93deffeeafcd2728": {
     "views": []
    },
    "bb6dd229bf4f4a83aa709c21043494b5": {
     "views": []
    },
    "bd39a4cec3774c5398f368eb79f5f75a": {
     "views": []
    },
    "bd8c5fef5e0841f0a1ca89d78948c1f6": {
     "views": []
    },
    "be20acacaaea4285863b68d64dab4ead": {
     "views": []
    },
    "bef09bb094da4fe984dfc45fb79106f8": {
     "views": []
    },
    "c0101e9ab7fe4156a4361017a7374e7c": {
     "views": []
    },
    "c2966c9807f54e96b0db82e4f2ec0615": {
     "views": []
    },
    "c29db0e4711f4130b9369a895d2eb4b5": {
     "views": []
    },
    "c36782bd406d4a88b8d4370affd11c83": {
     "views": []
    },
    "c3f91c929c994f389266e77ddf7da107": {
     "views": []
    },
    "c4b4ecb2dbb8492dac04321ff3f4e0e7": {
     "views": []
    },
    "c5b9897b9d4b47e89da7ca361161286a": {
     "views": []
    },
    "c77d44fda6b34a709154abf5392d1f5e": {
     "views": []
    },
    "c7da83605aec46d7ae4b16b6da849c0c": {
     "views": []
    },
    "ca311330620f4dada70182367f17ea2a": {
     "views": []
    },
    "cbeeddf1c0ed4baaa9e54be282f56fa5": {
     "views": []
    },
    "ccf8dc28d1874fcb83b931bad611482d": {
     "views": []
    },
    "cd7723c832e04d6e87659627843b09bd": {
     "views": []
    },
    "cf04246933f341c99b969b7316c0e06c": {
     "views": []
    },
    "cf2e14908f1f47aab37ace41adfed99e": {
     "views": []
    },
    "d0c51aa5d8c24ac4b7119108af20e43e": {
     "views": []
    },
    "d1628b876d1644eb98d8a6dff185d400": {
     "views": []
    },
    "d18ab1e33c514f1d9f8f12e3749587db": {
     "views": []
    },
    "d2fc1cd982af490b87c4a8c46b2465d0": {
     "views": []
    },
    "d304ea065dd64592b95349e395ddc598": {
     "views": []
    },
    "d328bd84d26547be9254cf7c7a52826b": {
     "views": []
    },
    "d40f3e2f04cf491187bdda59dc4c5dbb": {
     "views": []
    },
    "d47dfa6fc71c46ec90df1cb8c075e794": {
     "views": []
    },
    "d4a7b9c9300e466c81c7adebae07b163": {
     "views": []
    },
    "d4fdab02d51a479da2a8bfd79f902ee8": {
     "views": []
    },
    "d7a75fa6cca149b69863d8009a290917": {
     "views": []
    },
    "d84f0d15c2964df3bbf7d1e7a1dae6b3": {
     "views": []
    },
    "d950b800d1544ffe841a2861b6c35cf7": {
     "views": []
    },
    "d9eb4669ff094f74bd6b97c222e7a804": {
     "views": []
    },
    "d9ee484194f441ec8d48c6fb178caec8": {
     "views": []
    },
    "da248436b38a455c9f123149e9630c2c": {
     "views": []
    },
    "da524f9648ed46f4bad19c0ad83335f2": {
     "views": []
    },
    "da5d4cdcdc014f82a0792c7dcdde965c": {
     "views": []
    },
    "dc064d5ab508437586983d4babc71de2": {
     "views": []
    },
    "dd068c0aa6d44de993a8d39dd8f8bec0": {
     "views": []
    },
    "dd2f47d28f32455481d76dd95da07c86": {
     "views": []
    },
    "ddd0deecccdc467fb3d8a7216ae189de": {
     "views": []
    },
    "de345825eb8c45468342e633fcab2ec9": {
     "views": []
    },
    "df2e623ee08b4f2e80b9c8c6a3317961": {
     "views": []
    },
    "df7f289bd7ce49bab387917f6c56c86e": {
     "views": []
    },
    "e018dce114d94926a475b7033c000531": {
     "views": []
    },
    "e1554925015b4a5aa5896a27d25e3d7c": {
     "views": []
    },
    "e1ffe3d893594fb0be204d62146b9e62": {
     "views": []
    },
    "e23fabae415b4f49a1a4840dbf0dbe34": {
     "views": []
    },
    "e2b5d3f56bf24b4cbef9a196c1f543e6": {
     "views": []
    },
    "e2b7585cc7804c6b8c9ee7effecee6ea": {
     "views": []
    },
    "e2ef9aad0f0c4e87b6139caaa1c1f036": {
     "views": []
    },
    "e36dfd8c6a5c40ac89e772233edeb6ed": {
     "views": []
    },
    "e7a37e5447d541c481d596e56b900053": {
     "views": []
    },
    "e87f74a2b9984f97b18f6fc41bfb024e": {
     "views": []
    },
    "e8bb55ab0de64b6ab752dc894ae3abdc": {
     "views": []
    },
    "e95414c9d4454e7fab570e32fa3bb7e9": {
     "views": []
    },
    "ea1b099cffa44c7eaf926aa64e19c700": {
     "views": []
    },
    "eb1ef1d74a0e4f18b94c810f239b4938": {
     "views": []
    },
    "ebc0653b9afc4e17a831ce71aab247c6": {
     "views": []
    },
    "ebc132f059a540a5a97698ad6b1e3a4b": {
     "views": []
    },
    "ec05b8a896d94f4f819f8e278b16e6b0": {
     "views": []
    },
    "ed0d1ca7dfea4e3e895ab3a37ef238ef": {
     "views": []
    },
    "ed1636949d4b458caf619f8ff52e858d": {
     "views": []
    },
    "ed84e066fce14ee8a8f9cb392bea16d0": {
     "views": []
    },
    "ed9b258dd2084c7fafc7f976d637c864": {
     "views": []
    },
    "eda39fd34c214be095eeb65ce8ef57c7": {
     "views": []
    },
    "ef3f80ab13ac41398f6ad9f609fe31a8": {
     "views": []
    },
    "f02fef07599f41c0bfc5adfe24ec48c2": {
     "views": []
    },
    "f040f9e2753940a0a513d68c46d4c91b": {
     "views": []
    },
    "f1a7224955ac4f7f8be2d8bb2bd69b29": {
     "views": []
    },
    "f21ae867614d4e969649f609960bb95f": {
     "views": []
    },
    "f2e51e1139f944b89a661b3ed011bc41": {
     "views": []
    },
    "f30ab3ad5e0d452da21c25dbb71f4008": {
     "views": []
    },
    "f33c3e7c59fc4120a4a0f34b60970473": {
     "views": []
    },
    "f4da452a2bfc4212956b8aeeea7843d1": {
     "views": []
    },
    "f51e5505d940414f9a80c2011afacbc0": {
     "views": []
    },
    "f68c3138e7e248bd9f6d2e687c8a95b0": {
     "views": []
    },
    "f6fda68b85bb4fdb838c402352ede9af": {
     "views": []
    },
    "f885a3a9503c4110b9a3a8703dae4372": {
     "views": []
    },
    "f94ce04ad39b409aae12ec668135eb7b": {
     "views": []
    },
    "f984b5f47b2b4b24a5958b43a0a524cb": {
     "views": []
    },
    "fa168cd1a6ad4cc68b0c43c75f6b371f": {
     "views": []
    },
    "fab637539a6b4554b09f0db57ced187c": {
     "views": []
    },
    "fafd77160895409db9e108f13fbd2e9e": {
     "views": []
    },
    "fb68df05465d41888874c01ff0eb37c9": {
     "views": []
    },
    "fd5d2165da73429da26d8c5e614ee830": {
     "views": []
    },
    "fdb088cfed6747329c56bc4bfe075b21": {
     "views": []
    }
   },
   "version": "1.1.2"
  }
 },
 "nbformat": 4,
 "nbformat_minor": 0
}
